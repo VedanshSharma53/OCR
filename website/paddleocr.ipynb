{
 "cells": [
  {
   "cell_type": "markdown",
   "id": "70d20d2c-64ca-4793-aacb-1db1b0e12e1e",
   "metadata": {},
   "source": [
    "# Detection & Recognition using PaddlePaddle OCR v3 basemodel"
   ]
  },
  {
   "cell_type": "code",
   "execution_count": 13,
   "id": "e94c5386-edb2-4670-a53b-812bbf15b433",
   "metadata": {
    "scrolled": true
   },
   "outputs": [
    {
     "name": "stdout",
     "output_type": "stream",
     "text": [
      "[2024/05/10 00:22:37] ppocr DEBUG: Namespace(help='==SUPPRESS==', use_gpu=False, use_xpu=False, use_npu=False, ir_optim=True, use_tensorrt=False, min_subgraph_size=15, precision='fp32', gpu_mem=500, gpu_id=0, image_dir=None, page_num=0, det_algorithm='DB', det_model_dir='C:\\\\Users\\\\user/.paddleocr/whl\\\\det\\\\en\\\\en_PP-OCRv3_det_infer', det_limit_side_len=960, det_limit_type='max', det_box_type='quad', det_db_thresh=0.3, det_db_box_thresh=0.6, det_db_unclip_ratio=1.5, max_batch_size=10, use_dilation=False, det_db_score_mode='fast', det_east_score_thresh=0.8, det_east_cover_thresh=0.1, det_east_nms_thresh=0.2, det_sast_score_thresh=0.5, det_sast_nms_thresh=0.2, det_pse_thresh=0, det_pse_box_thresh=0.85, det_pse_min_area=16, det_pse_scale=1, scales=[8, 16, 32], alpha=1.0, beta=1.0, fourier_degree=5, rec_algorithm='SVTR_LCNet', rec_model_dir='C:\\\\Users\\\\user/.paddleocr/whl\\\\rec\\\\en\\\\en_PP-OCRv4_rec_infer', rec_image_inverse=True, rec_image_shape='3, 48, 320', rec_batch_num=6, max_text_length=25, rec_char_dict_path='C:\\\\Users\\\\user\\\\AppData\\\\Local\\\\Packages\\\\PythonSoftwareFoundation.Python.3.11_qbz5n2kfra8p0\\\\LocalCache\\\\local-packages\\\\Python311\\\\site-packages\\\\paddleocr\\\\ppocr\\\\utils\\\\en_dict.txt', use_space_char=True, vis_font_path='./doc/fonts/simfang.ttf', drop_score=0.5, e2e_algorithm='PGNet', e2e_model_dir=None, e2e_limit_side_len=768, e2e_limit_type='max', e2e_pgnet_score_thresh=0.5, e2e_char_dict_path='./ppocr/utils/ic15_dict.txt', e2e_pgnet_valid_set='totaltext', e2e_pgnet_mode='fast', use_angle_cls=False, cls_model_dir='C:\\\\Users\\\\user/.paddleocr/whl\\\\cls\\\\ch_ppocr_mobile_v2.0_cls_infer', cls_image_shape='3, 48, 192', label_list=['0', '180'], cls_batch_num=6, cls_thresh=0.9, enable_mkldnn=False, cpu_threads=10, use_pdserving=False, warmup=False, sr_model_dir=None, sr_image_shape='3, 32, 128', sr_batch_num=1, draw_img_save_dir='./inference_results', save_crop_res=False, crop_res_save_dir='./output', use_mp=False, total_process_num=1, process_id=0, benchmark=False, save_log_path='./log_output/', show_log=True, use_onnx=False, output='./output', table_max_len=488, table_algorithm='TableAttn', table_model_dir=None, merge_no_span_structure=True, table_char_dict_path=None, layout_model_dir=None, layout_dict_path=None, layout_score_threshold=0.5, layout_nms_threshold=0.5, kie_algorithm='LayoutXLM', ser_model_dir=None, re_model_dir=None, use_visual_backbone=True, ser_dict_path='../train_data/XFUND/class_list_xfun.txt', ocr_order_method=None, mode='structure', image_orientation=False, layout=True, table=True, ocr=True, recovery=False, use_pdf2docx_api=False, invert=False, binarize=False, alphacolor=(255, 255, 255), lang='en', det=True, rec=True, type='ocr', ocr_version='PP-OCRv4', structure_version='PP-StructureV2')\n",
      "[2024/05/10 00:22:39] ppocr DEBUG: dt_boxes num : 34, elapsed : 0.11494183540344238\n",
      "[2024/05/10 00:22:39] ppocr DEBUG: rec_res num  : 34, elapsed : 0.7480218410491943\n",
      "[[[128.0, 144.0], [554.0, 144.0], [554.0, 169.0], [128.0, 169.0]], ('HR9 9', 0.5109180212020874)]\n",
      "[[[251.0, 180.0], [434.0, 183.0], [433.0, 209.0], [251.0, 206.0]], ('H', 0.5609285831451416)]\n",
      "[[[200.0, 235.0], [486.0, 235.0], [486.0, 260.0], [200.0, 260.0]], ('Government of India', 0.9684109091758728)]\n",
      "[[[167.0, 272.0], [520.0, 274.0], [520.0, 291.0], [167.0, 290.0]], ('/EnrollmentNo.1062/12805/41923', 0.9288491010665894)]\n",
      "[[[208.0, 367.0], [225.0, 367.0], [225.0, 382.0], [208.0, 382.0]], ('To', 0.993293285369873)]\n",
      "[[[208.0, 383.0], [277.0, 383.0], [277.0, 400.0], [208.0, 400.0]], (' ', 0.5490120649337769)]\n",
      "[[[208.0, 402.0], [295.0, 404.0], [294.0, 422.0], [207.0, 419.0]], ('Sudhir Kumar', 0.9749575257301331)]\n",
      "[[[190.0, 418.0], [200.0, 418.0], [200.0, 432.0], [190.0, 432.0]], ('15', 0.5798027515411377)]\n",
      "[[[208.0, 420.0], [330.0, 424.0], [329.0, 442.0], [207.0, 438.0]], ('S/O Raj Kishor Saw', 0.9318262934684753)]\n",
      "[[[190.0, 433.0], [200.0, 433.0], [200.0, 448.0], [190.0, 448.0]], ('20', 0.9207544922828674)]\n",
      "[[[191.0, 450.0], [200.0, 450.0], [200.0, 469.0], [191.0, 469.0]], ('Z0', 0.5693761110305786)]\n",
      "[[[208.0, 442.0], [445.0, 442.0], [445.0, 458.0], [208.0, 458.0]], ('dhantoliya mohlla pani tanki ward no-26', 0.964066207408905)]\n",
      "[[[207.0, 460.0], [246.0, 460.0], [246.0, 478.0], [207.0, 478.0]], ('Dehri', 0.9825736880302429)]\n",
      "[[[207.0, 477.0], [297.0, 480.0], [296.0, 498.0], [207.0, 495.0]], ('Dehri-on-sone', 0.9826564788818359)]\n",
      "[[[209.0, 495.0], [291.0, 498.0], [290.0, 515.0], [208.0, 512.0]], ('Dehri Rohtas', 0.9354543089866638)]\n",
      "[[[207.0, 516.0], [290.0, 513.0], [291.0, 531.0], [208.0, 534.0]], ('Bihar 821307', 0.9563177227973938)]\n",
      "[[[191.0, 526.0], [201.0, 526.0], [201.0, 542.0], [191.0, 542.0]], ('96', 0.9958113431930542)]\n",
      "[[[208.0, 535.0], [287.0, 535.0], [287.0, 552.0], [208.0, 552.0]], ('9135620202', 0.9908811450004578)]\n",
      "[[[191.0, 545.0], [201.0, 545.0], [201.0, 573.0], [191.0, 573.0]], ('2201', 0.7414727807044983)]\n",
      "[[[235.0, 583.0], [355.0, 583.0], [355.0, 599.0], [235.0, 599.0]], ('MD942007962FH', 0.9954396486282349)]\n",
      "[[[146.0, 693.0], [557.0, 686.0], [557.0, 708.0], [147.0, 714.0]], ('3 3 /Your Aadhaar No.', 0.8450387120246887)]\n",
      "[[[200.0, 732.0], [497.0, 725.0], [498.0, 755.0], [200.0, 761.0]], ('9757 08603794', 0.9604533314704895)]\n",
      "[[[198.0, 786.0], [499.0, 780.0], [499.0, 811.0], [199.0, 817.0]], ('3', 0.7343063950538635)]\n",
      "[[[303.0, 855.0], [399.0, 850.0], [400.0, 868.0], [303.0, 872.0]], ('R', 0.6934505105018616)]\n",
      "[[[271.0, 879.0], [432.0, 875.0], [433.0, 893.0], [272.0, 897.0]], ('Government of India', 0.9659615755081177)]\n",
      "[[[250.0, 906.0], [324.0, 901.0], [325.0, 922.0], [252.0, 927.0]], ('E ', 0.5037094354629517)]\n",
      "[[[251.0, 927.0], [339.0, 924.0], [339.0, 941.0], [251.0, 944.0]], ('Sudhir Kumar', 0.97199946641922)]\n",
      "[[[251.0, 947.0], [438.0, 940.0], [439.0, 958.0], [251.0, 964.0]], ('/DB14/12/1999', 0.9694014191627502)]\n",
      "[[[252.0, 969.0], [321.0, 963.0], [323.0, 982.0], [253.0, 988.0]], ('/Male', 0.9795470237731934)]\n",
      "[[[261.0, 1087.0], [448.0, 1078.0], [449.0, 1101.0], [262.0, 1110.0]], ('9757 0860 3794', 0.937960147857666)]\n",
      "[[[197.0, 1121.0], [507.0, 1106.0], [508.0, 1140.0], [198.0, 1155.0]], ('3', 0.7276670932769775)]\n"
     ]
    }
   ],
   "source": [
    "from paddleocr import PaddleOCR,draw_ocr\n",
    "from IPython.display import display\n",
    "\n",
    "ocr = PaddleOCR(lang='en') # need to run only once to download and load model into memory\n",
    "img_path = r\"C:\\Users\\user\\Desktop\\4929bf687f69997c62cfbe7265845493.jpg\"\n",
    "# img_path = r\"C:\\Users\\VIGNESH SHARMA\\Desktop\\digilocker format AADHAR.jpg\"\n",
    "# img_path = r\"C:\\Users\\VIGNESH SHARMA\\Desktop\\APPLICATION DOCUMENTS\\AADHAAR CARD.jpg\"\n",
    "result = ocr.ocr(img_path, cls=False)\n",
    "for idx in range(len(result)):\n",
    "    res = result[idx]\n",
    "    for line in res:\n",
    "        print(line)\n",
    "\n",
    "# draw result\n",
    "from PIL import Image\n",
    "result = result[0]\n",
    "image = Image.open(img_path).convert('RGB')\n",
    "boxes = [line[0] for line in result]\n",
    "txts = [line[1][0] for line in result]\n",
    "scores = [line[1][1] for line in result]\n",
    "# im_show = draw_ocr(image, boxes, txts, scores, font_path=r\"C:\\Users\\VIGNESH SHARMA\\Desktop\\simfang.ttf\")\n",
    "# im_show = Image.fromarray(im_show)\n",
    "\n",
    "# result_path = 'result.jpg'\n",
    "# im_show.save(result_path)\n",
    "# result = Image.open(result_path)\n",
    "# display(result)\n",
    "# result.show()"
   ]
  },
  {
   "cell_type": "code",
   "execution_count": 14,
   "id": "80af4852-0770-4778-80a7-62952e1a92f5",
   "metadata": {},
   "outputs": [
    {
     "name": "stdout",
     "output_type": "stream",
     "text": [
      "['Government of India', '/EnrollmentNo.1062/12805/41923', 'To', 'Sudhir Kumar', 'S/O Raj Kishor Saw', '20', 'dhantoliya mohlla pani tanki ward no-26', 'Dehri', 'Dehri-on-sone', 'Dehri Rohtas', 'Bihar 821307', '96', '9135620202', '2201', 'MD942007962FH', '3 3 /Your Aadhaar No.', '9757 08603794', '3', 'Government of India', 'Sudhir Kumar', '/DB14/12/1999', '/Male', '9757 0860 3794', '3']\n",
      "[[200.0, 235.0], [167.0, 272.0], [208.0, 367.0], [208.0, 402.0], [208.0, 420.0], [190.0, 433.0], [208.0, 442.0], [207.0, 460.0], [207.0, 477.0], [209.0, 495.0], [207.0, 516.0], [191.0, 526.0], [208.0, 535.0], [191.0, 545.0], [235.0, 583.0], [146.0, 693.0], [200.0, 732.0], [198.0, 786.0], [271.0, 879.0], [251.0, 927.0], [251.0, 947.0], [252.0, 969.0], [261.0, 1087.0], [197.0, 1121.0]]\n"
     ]
    }
   ],
   "source": [
    "newtext = []\n",
    "newcoord = []\n",
    "\n",
    "for i in range(len(txts)):\n",
    "    if(scores[i] >= 0.7):\n",
    "        newtext.append(txts[i])\n",
    "        newcoord.append(boxes[i][0])\n",
    "print(newtext)\n",
    "print(newcoord)"
   ]
  },
  {
   "cell_type": "code",
   "execution_count": 25,
   "id": "3e83481e-340d-4396-990b-728c26f08f63",
   "metadata": {},
   "outputs": [
    {
     "name": "stdout",
     "output_type": "stream",
     "text": [
      "2 10\n"
     ]
    }
   ],
   "source": [
    "start_index = 0\n",
    "end_index = 0\n",
    "name_flag = False\n",
    "state_flag = False\n",
    "for i in range(len(newtext)):\n",
    "    if(\"Enrol\" in newtext[i]):\n",
    "        start_index = i+1\n",
    "        name_flag = True\n",
    "    if(newtext[i].isdigit() and len(newtext[i])>=10):\n",
    "        j = i-1\n",
    "        while(len(newtext[j])<6):\n",
    "            j-=1\n",
    "        end_index = j\n",
    "        state_flag = True\n",
    "    if(state_flag and name_flag):\n",
    "        break\n",
    "print(start_index,end_index)\n",
    "    "
   ]
  },
  {
   "cell_type": "code",
   "execution_count": 27,
   "id": "a063f785-1a29-4564-9f84-c00e11238eaa",
   "metadata": {},
   "outputs": [
    {
     "name": "stdout",
     "output_type": "stream",
     "text": [
      "208.0\n",
      "208.0\n",
      "208.0\n",
      "208.0\n",
      "207.0\n",
      "207.0\n",
      "209.0\n",
      "207.0\n"
     ]
    },
    {
     "data": {
      "text/plain": [
       "['To',\n",
       " 'Sudhir Kumar',\n",
       " 'S/O Raj Kishor Saw',\n",
       " 'dhantoliya mohlla pani tanki ward no-26',\n",
       " 'Dehri',\n",
       " 'Dehri-on-sone',\n",
       " 'Dehri Rohtas',\n",
       " 'Bihar 821307']"
      ]
     },
     "execution_count": 27,
     "metadata": {},
     "output_type": "execute_result"
    }
   ],
   "source": [
    "llimit = newcoord[end_index][0]-10\n",
    "rlimit = newcoord[end_index][0]+10\n",
    "temptxt = []\n",
    "\n",
    "for i in range(len(newtext)):\n",
    "    if(i<start_index):\n",
    "        continue\n",
    "    if(i>end_index):\n",
    "        break\n",
    "    if(newcoord[i][0]>=llimit and newcoord[i][0]<=rlimit):\n",
    "        print(newcoord[i][0])\n",
    "        temptxt.append(newtext[i])\n",
    "temptxt"
   ]
  },
  {
   "cell_type": "code",
   "execution_count": 28,
   "id": "802f4ccb-c130-4f80-88d6-19b3744f0dec",
   "metadata": {},
   "outputs": [
    {
     "name": "stdout",
     "output_type": "stream",
     "text": [
      "Sudhir Kumar\n",
      "S/O Raj Kishor Saw, dhantoliya mohlla pani tanki ward no-26, Dehri, Dehri-on-sone, Dehri Rohtas, Bihar 821307\n"
     ]
    }
   ],
   "source": [
    "name = \"\"\n",
    "address = \"\"\n",
    "state = \"\"\n",
    "# pincode = temptxt[len(temptxt)-1][len(temptxt)-6:\n",
    "flag = False\n",
    "for word in temptxt:\n",
    "    if(word == \"To\" or word == \"To,\" or word == \"To \" or word == \"TO.\" or word == \"TO,\" or word == \"TO \"):\n",
    "        continue\n",
    "    if((word == name) or (name != \"\" and (name[0:name.index(\" \")] in word))):\n",
    "        continue\n",
    "    if(name == \"\"):\n",
    "        name = word\n",
    "        continue\n",
    "    if(address == \"\"):\n",
    "        address+= word\n",
    "        flag = True\n",
    "        continue\n",
    "    if(flag):\n",
    "        address+=', '\n",
    "        address+=word\n",
    "print(name)\n",
    "print(address)"
   ]
  },
  {
   "cell_type": "code",
   "execution_count": 7,
   "id": "4fb1490a-cbf2-451b-8f86-eac506d33d4d",
   "metadata": {},
   "outputs": [
    {
     "ename": "SyntaxError",
     "evalue": "invalid non-printable character U+00A0 (2042482317.py, line 23)",
     "output_type": "error",
     "traceback": [
      "\u001b[1;36m  Cell \u001b[1;32mIn[7], line 23\u001b[1;36m\u001b[0m\n\u001b[1;33m    app.run()\u001b[0m\n\u001b[1;37m    ^\u001b[0m\n\u001b[1;31mSyntaxError\u001b[0m\u001b[1;31m:\u001b[0m invalid non-printable character U+00A0\n"
     ]
    }
   ],
   "source": [
    "from flask import Flask\n",
    "from flask import request\n",
    "from flask import render_template\n",
    "import stringComparison\n",
    "\n",
    "app = Flask(_name_)\n",
    "\n",
    "@app.route('/')\n",
    "def my_form():\n",
    "    return render_template(\"my-form.html\") # This should be the name of your HTML file\n",
    "\n",
    "@app.route('/', methods=['POST'])\n",
    "def my_form_post():\n",
    "    text1 = request.form['text1']\n",
    "    text2 = request.form['text2']\n",
    "    plagiarismPercent = stringComparison.extremelySimplePlagiarismChecker(text1,text2)\n",
    "    if plagiarismPercent > 50 :\n",
    "        return \"<h1>Plagiarism Detected !</h1>\"\n",
    "    else :\n",
    "        return \"<h1>No Plagiarism Detected !</h1>\"\n",
    "\n",
    "if _name_ == '_main_':\n",
    "    app.run()"
   ]
  },
  {
   "cell_type": "markdown",
   "id": "98304ade-1b5a-400c-b1ce-5a955c77e7ce",
   "metadata": {},
   "source": [
    "# Detection & Recognition using IRAS Pricetag OCR"
   ]
  },
  {
   "cell_type": "code",
   "execution_count": 9,
   "id": "95c0e238-6ae8-4b38-b7c7-6760a7e787e3",
   "metadata": {},
   "outputs": [],
   "source": [
    "# from paddleocr import PaddleOCR,draw_ocr\n",
    "\n",
    "# det_dir = '/Users/a0g0dl6/Documents/Projects/paddleocr/models/det/'\n",
    "# rec_dir = '/Users/a0g0dl6/Documents/Projects/paddleocr/models/rec/'\n",
    "# rec_char_dict_path = '/Users/a0g0dl6/Documents/Projects/paddleocr/models/EN_symbol_dict.txt'\n",
    "\n",
    "# ocr = PaddleOCR(det_model_dir=det_dir, rec_model_dir=rec_dir)\n",
    "\n",
    "# img_path = '/Users/a0g0dl6/Documents/Projects/paddleocr/aadhaar.jpg'\n",
    "# result = ocr.ocr(img_path)\n",
    "# for idx in range(len(result)):\n",
    "#     res = result[idx]\n",
    "#     for line in res:\n",
    "#         print(line)\n",
    "\n",
    "# # draw result\n",
    "# from PIL import Image\n",
    "# result = result[0]\n",
    "# image = Image.open(img_path).convert('RGB')\n",
    "# boxes = [line[0] for line in result]\n",
    "# txts = [line[1][0] for line in result]\n",
    "# scores = [line[1][1] for line in result]\n",
    "# im_show = draw_ocr(image, boxes, txts, scores, font_path='/Users/a0g0dl6/Documents/Projects/paddleocr/simfang.ttf')\n",
    "# im_show = Image.fromarray(im_show)\n",
    "# im_show.save('result_iras_ocr.jpg')\n",
    "\n",
    "\n"
   ]
  },
  {
   "cell_type": "code",
   "execution_count": null,
   "id": "41e9b568-6be1-4144-8133-2c9a8a526a49",
   "metadata": {},
   "outputs": [],
   "source": []
  },
  {
   "cell_type": "code",
   "execution_count": null,
   "id": "b8a78c94-0e4d-4d46-8f2f-d4cceeacade3",
   "metadata": {},
   "outputs": [],
   "source": []
  },
  {
   "cell_type": "code",
   "execution_count": null,
   "id": "50c53cb6-c024-4664-bea8-2d378844b544",
   "metadata": {},
   "outputs": [],
   "source": []
  },
  {
   "cell_type": "code",
   "execution_count": null,
   "id": "a0b57b96-60e5-48d8-9b2c-40fb345a6bd0",
   "metadata": {},
   "outputs": [],
   "source": []
  }
 ],
 "metadata": {
  "kernelspec": {
   "display_name": "Python 3 (ipykernel)",
   "language": "python",
   "name": "python3"
  },
  "language_info": {
   "codemirror_mode": {
    "name": "ipython",
    "version": 3
   },
   "file_extension": ".py",
   "mimetype": "text/x-python",
   "name": "python",
   "nbconvert_exporter": "python",
   "pygments_lexer": "ipython3",
   "version": "3.11.9"
  }
 },
 "nbformat": 4,
 "nbformat_minor": 5
}
