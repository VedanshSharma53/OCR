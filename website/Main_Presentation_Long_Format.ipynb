{
 "cells": [
  {
   "cell_type": "code",
   "execution_count": 1,
   "id": "0b6f99c8-191c-4cc6-9be3-1c00488607c9",
   "metadata": {},
   "outputs": [],
   "source": [
    "import nltk \n",
    "from nltk.corpus import stopwords \n",
    "from nltk.tokenize import word_tokenize, sent_tokenize"
   ]
  },
  {
   "cell_type": "code",
   "execution_count": 2,
   "id": "7125fe88-9a95-4170-85d4-829270ffbfc1",
   "metadata": {},
   "outputs": [],
   "source": [
    "from PIL import Image\n",
    "import pytesseract\n",
    "\n",
    "pytesseract.pytesseract.tesseract_cmd = r'C:\\Program Files\\Tesseract-OCR\\tesseract.exe'\n",
    "\n",
    "def extract_text_from_image(image_path):\n",
    "    image = Image.open(image_path)\n",
    "    text = pytesseract.image_to_string(image)\n",
    "    return text\n",
    "\n",
    "# text = extract_text_from_image(r'C:\\Users\\VIGNESH SHARMA\\Desktop\\APPLICATION DOCUMENTS\\AADHAAR CARD.jpg')\n",
    "text1 = extract_text_from_image(r'C:\\Users\\VIGNESH SHARMA\\Desktop\\AADHAR.jpg')\n",
    "text2 = extract_text_from_image(r\"C:\\Users\\VIGNESH SHARMA\\Desktop\\full len aadhaar 1.jpg\")\n",
    "text3 = extract_text_from_image(r\"C:\\Users\\VIGNESH SHARMA\\Desktop\\aadhar back.jpg\")\n",
    "\n",
    "# text3 = extract_text_from_image(r\"C:\\Users\\VIGNESH SHARMA\\Desktop\\short 1.jpg\")\n",
    "# text4 = extract_text_from_image(r\"C:\\Users\\VIGNESH SHARMA\\Desktop\\pvc front.jpg\")\n",
    "# text5 = extract_text_from_image(r\"C:\\Users\\VIGNESH SHARMA\\Desktop\\pvc back.jpg\")\n",
    "# randtext = extract_text_from_image(r\"C:\\Users\\VIGNESH SHARMA\\Desktop\\random.png\")\n"
   ]
  },
  {
   "cell_type": "code",
   "execution_count": 3,
   "id": "4eef8d68-c32e-467b-bd41-1fb5746ce40d",
   "metadata": {},
   "outputs": [],
   "source": [
    "def nameExtractor_Long_Format(text):\n",
    "    list = text.split('\\n')\n",
    "    name = \"\"\n",
    "    flag = False\n",
    "    for word in list:\n",
    "        if(word == ''):\n",
    "            continue\n",
    "        if(word == 'To'):\n",
    "            flag = True\n",
    "            continue\n",
    "        if(flag == True and len(word)>1):\n",
    "            name+=word\n",
    "            break\n",
    "    return name"
   ]
  },
  {
   "cell_type": "code",
   "execution_count": 4,
   "id": "1b9e0777-dc31-4746-9479-6cd553376d2d",
   "metadata": {},
   "outputs": [],
   "source": [
    "def aadhaarNumber_Extractor(text):\n",
    "    list = text.split('\\n')\n",
    "    aadhaarnum = \"\"\n",
    "    for word in list:\n",
    "        if(word == ''):\n",
    "            continue\n",
    "        if(len(word) == 14 and word[0:4].isdigit() and word[5:9].isdigit() and word[10:14]):\n",
    "            if(word[4] == ' ' and word[9] == ' '):\n",
    "                aadhaarnum += word\n",
    "                break\n",
    "    return aadhaarnum"
   ]
  },
  {
   "cell_type": "code",
   "execution_count": 5,
   "id": "950f3d9f-b645-472e-89d7-877e7f2a8683",
   "metadata": {},
   "outputs": [],
   "source": [
    "def DOB_Extractor(text):\n",
    "    list = text.split('\\n')\n",
    "    date = \"\"\n",
    "    flag = False\n",
    "    for word in list:\n",
    "        if(word == ''):\n",
    "            continue\n",
    "        if \"DOB\" in word:\n",
    "            date += word[word.find(\"DOB\"):len(word)]\n",
    "            break\n",
    "    return date"
   ]
  },
  {
   "cell_type": "code",
   "execution_count": 6,
   "id": "0f2bf2f2-e4d5-4dca-87e3-dbe51c37cdc2",
   "metadata": {},
   "outputs": [],
   "source": [
    "def gender_Extractor(text):\n",
    "    list = text.split('\\n')\n",
    "    gender = \"\"\n",
    "    for word in list:\n",
    "        if(word == ''):\n",
    "            continue\n",
    "        if \"Male\" in word:\n",
    "            gender+= \"Male\"\n",
    "        elif \"Female\" in word:\n",
    "            gender += \"Female\"\n",
    "        elif \"Transgender\" in word:\n",
    "            gender += \"Transgender\"\n",
    "        elif \"MALE\" in word :\n",
    "            gender += \"MALE\"\n",
    "        elif \"FEMALE\" in word:\n",
    "            gender += \"FEMALE\"\n",
    "        elif \"TRANSGENDER\" in word:\n",
    "            gender += \"TRANSGENDER\"\n",
    "        if(gender != \"\"):\n",
    "            break\n",
    "    return gender"
   ]
  },
  {
   "cell_type": "code",
   "execution_count": 10,
   "id": "f7dd7c20-e494-44f6-b370-023a7b885839",
   "metadata": {},
   "outputs": [],
   "source": [
    "#Address\n",
    "def address_Extractor(text):\n",
    "    list = text.split('\\n')\n",
    "    address = \"\"\n",
    "    states = [\"Andhra Pradesh\",\"Arunachal Pradesh \",\"Assam\",\"Bihar\",\"Chhattisgarh\",\"Goa\",\"Gujarat\",\"Haryana\",\"Himachal Pradesh\",\"Jammu and Kashmir\",\"Jharkhand\",\"Karnataka\",\"Kerala\",\"Madhya Pradesh\",\"Maharashtra\",\"Manipur\",\"Meghalaya\",\"Mizoram\",\"Nagaland\",\"Odisha\",\"Punjab\",\"Rajasthan\",\"Sikkim\",\"Tamil Nadu\",\"Telangana\",\"Tripura\",\"Uttar Pradesh\",\"Uttarakhand\",\"West Bengal\",\"Andaman and Nicobar Islands\",\"Chandigarh\",\"Dadra and Nagar Haveli\",\"Daman and Diu\",\"Lakshadweep\",\"National Capital Territory of Delhi\",\"Puducherry\"]\n",
    "    name = nameExtractor_Long_Format(text)\n",
    "    count = 0\n",
    "    flag = False\n",
    "    flag2 = False\n",
    "    state = \"\"\n",
    "    pincode = \"\"\n",
    "    city = \"\"\n",
    "    \n",
    "    for word in list:\n",
    "        if(word == ''):\n",
    "            continue\n",
    "        if('Address' in word):\n",
    "            flag = True\n",
    "        if(flag):\n",
    "            for state1 in states:\n",
    "                if state1 in word:\n",
    "                    state = state1\n",
    "                    flag2 = True\n",
    "            address+=word\n",
    "            if(flag2):\n",
    "                break\n",
    "    pincode = address[len(address)-6:len(address)]\n",
    "    index = 0\n",
    "    starting_index = 0\n",
    "    flag = False\n",
    "    for letter in address:\n",
    "        if letter == 'A':\n",
    "            flag = True\n",
    "            continue\n",
    "        if(flag and letter=='d'):\n",
    "            break\n",
    "        starting_index += 1\n",
    "    address = address[starting_index:len(address)]\n",
    "    \n",
    "\n",
    "    i = 8\n",
    "    space_index = 0\n",
    "    for i in range(len(address)):\n",
    "        if(address[i] == ' ' and i == 8):\n",
    "            continue\n",
    "        elif address[i] == ' ':\n",
    "            space_index = i\n",
    "            break\n",
    "    var = address[8:space_index]\n",
    "    var = var.strip()\n",
    "    \n",
    "    newAdd = newAddress(text1,var,pincode)\n",
    "    address = newAdd\n",
    "\n",
    "    for word in list:\n",
    "        if state in word:\n",
    "            break\n",
    "        index+=1\n",
    "    while(list[index-1] == ''):\n",
    "        index-=1\n",
    "    city = list[index+1]\n",
    "    x = city.find(\" \")\n",
    "    city = city[0:x]\n",
    "    \n",
    "    return address,state,pincode,city\n"
   ]
  },
  {
   "cell_type": "code",
   "execution_count": 11,
   "id": "02e3fcf5-f94d-444a-9d8b-0548ba34c1bd",
   "metadata": {},
   "outputs": [],
   "source": [
    "def newAddress(text,address,pincode):\n",
    "    newAdd = \"\"\n",
    "    list = text.split('\\n')\n",
    "    flag = False\n",
    "    flag2 = False\n",
    "    for word in list:\n",
    "        if address in word:\n",
    "            flag = True\n",
    "        if flag:\n",
    "            if pincode in word:\n",
    "                flag2 = True\n",
    "            newAdd += word\n",
    "            newAdd+=\" \"\n",
    "            if flag2:\n",
    "                break\n",
    "    return newAdd"
   ]
  },
  {
   "cell_type": "code",
   "execution_count": 12,
   "id": "74ec9ee5-4d50-4ba2-88d5-1fef5e97e2ec",
   "metadata": {},
   "outputs": [
    {
     "name": "stdout",
     "output_type": "stream",
     "text": [
      "Name : Vignesh Sharma\n",
      "DOB: 29/10/2003\n",
      "Gender : MALE\n",
      "Address : S/O Pawan Kumar Sharma 14-5-283/284  Bedar Wadi  Shah Inayat Gunj  Nampally  Hyderabad Andhra Pradesh - 500012 \n",
      "State : Andhra Pradesh\n",
      "City : Hyderabad\n",
      "Pincode : 500012\n"
     ]
    }
   ],
   "source": [
    "img = text1\n",
    "img2 = text1\n",
    "print(\"Name :\",nameExtractor_Long_Format(img))\n",
    "print(DOB_Extractor(img))\n",
    "print(\"Gender :\",gender_Extractor(img))\n",
    "print(\"Address :\",address_Extractor(img2)[0])\n",
    "print(\"State :\",address_Extractor(img2)[1])\n",
    "print(\"City :\",address_Extractor(img2)[3])\n",
    "print(\"Pincode :\",address_Extractor(img2)[2])"
   ]
  },
  {
   "cell_type": "code",
   "execution_count": 14,
   "id": "5230d0d1-ae47-4392-9ecd-9c39f78933be",
   "metadata": {},
   "outputs": [
    {
     "data": {
      "text/plain": [
       "{'Name: ': 'Vignesh Sharma'}"
      ]
     },
     "execution_count": 14,
     "metadata": {},
     "output_type": "execute_result"
    }
   ],
   "source": [
    "data = {\n",
    "    \"Name\" : nameExtractor_Long_Format(img)\n",
    "    }\n",
    "data"
   ]
  },
  {
   "cell_type": "code",
   "execution_count": 15,
   "id": "255c5e90-c8a9-4879-8e19-4ea06d143e67",
   "metadata": {},
   "outputs": [],
   "source": [
    "import json\n",
    "with open('data.json', 'w', encoding='utf-8') as f:\n",
    "    json.dump(data, f, ensure_ascii=False, indent=4)"
   ]
  },
  {
   "cell_type": "code",
   "execution_count": null,
   "id": "7c7caf57-81cf-48d3-b311-a8c4f9623a32",
   "metadata": {},
   "outputs": [],
   "source": []
  }
 ],
 "metadata": {
  "kernelspec": {
   "display_name": "Python 3 (ipykernel)",
   "language": "python",
   "name": "python3"
  },
  "language_info": {
   "codemirror_mode": {
    "name": "ipython",
    "version": 3
   },
   "file_extension": ".py",
   "mimetype": "text/x-python",
   "name": "python",
   "nbconvert_exporter": "python",
   "pygments_lexer": "ipython3",
   "version": "3.11.7"
  }
 },
 "nbformat": 4,
 "nbformat_minor": 5
}
